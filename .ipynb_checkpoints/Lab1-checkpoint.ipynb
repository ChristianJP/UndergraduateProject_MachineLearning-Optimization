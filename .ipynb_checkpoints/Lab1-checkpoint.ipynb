{
 "cells": [
  {
   "cell_type": "markdown",
   "metadata": {},
   "source": [
    "# Lab 1: Python exercises for COMP24111\n",
    "\n",
    "# 1. Instruction\n",
    "\n",
    "There are a total of 10 exercises. By the end of the lab, you should have completed them, shown them to the TA and obtained feedback. Your attendance will not be signed off unless you are seen by a TA to be making an effort. Although these exercises will not be assessed, they are essential practice to facilitate you to complete the other lab exercises that will be assessed."
   ]
  },
  {
   "cell_type": "markdown",
   "metadata": {},
   "source": [
    "## 2. Exercises\n",
    "\n",
    "If you are already quite experienced with programming Python in Anaconda, you can just start the exercises below. If not, you should start with our provided supporting tutorials in the files “*PythonIntro.pdf*” and “*Tutorial.ipynb*”, and the introductory [Python tutorial](https://docs.python.org/3/tutorial/introduction.html). After you are familiar with the basics, you can proceed to the exercises.\n"
   ]
  },
  {
   "cell_type": "markdown",
   "metadata": {},
   "source": [
    "### Exercise 1\n",
    "\n",
    "Input a 4 by 4 magic square matrix \n",
    "$$\\textbf{A}=\n",
    "\\left[\n",
    "\\begin{array}{cccc}\n",
    "        16   &   3 &  2 & 13 \\\\\n",
    "        5    &  10 & 11 &  8 \\\\\n",
    "        9    &   6 &  7 & 12 \\\\\n",
    "        4    &  15 & 14 &  1 \\\\\n",
    "\\end{array}\n",
    "\\right]. \n",
    "$$  \n",
    "\n",
    "Generate a 4 by 4 matrix $\\textbf{B}$ with random entries. Set $\\textbf{C}$ to be a 4 by 4 matrix with 1's on the diagonal and 0's elsewhere. Check to see that, $\\textbf{A}$, $\\textbf{B}$ and $\\textbf{C}$ are all present. Compute the sum of the third column of $\\textbf{A}$."
   ]
  },
  {
   "cell_type": "code",
   "execution_count": 116,
   "metadata": {},
   "outputs": [
    {
     "name": "stdout",
     "output_type": "stream",
     "text": [
      "[[0.04685247 0.75319999 0.4803186  0.2089789 ]\n",
      " [0.48433559 0.50318582 0.44229352 0.2518734 ]\n",
      " [0.46677077 0.92881124 0.19955449 0.7485137 ]\n",
      " [0.33359436 0.01611259 0.25603795 0.69989903]]\n",
      "[[1. 0. 0. 0.]\n",
      " [0. 1. 0. 0.]\n",
      " [0. 0. 1. 0.]\n",
      " [0. 0. 0. 1.]]\n",
      "[[16  3  2 13]\n",
      " [ 5 10 11  8]\n",
      " [ 9  6  7 12]\n",
      " [ 4 15 14  1]]\n",
      "[34]\n"
     ]
    }
   ],
   "source": [
    "import numpy as np\n",
    "import random\n",
    "\n",
    "A = np.array([[16,3,2,13],[5,10,11,8],[9,6,7,12],[4,15,14,1]])\n",
    "\n",
    "B = np.random.rand(4,4)\n",
    "print(B)\n",
    "\n",
    "C = np.eye(4)\n",
    "print(C)\n",
    "\n",
    "print(A)\n",
    "\n",
    "acol = np.sum(A[2:3], axis=1)\n",
    "print(acol)"
   ]
  },
  {
   "cell_type": "markdown",
   "metadata": {},
   "source": [
    "### Exercise 2\n",
    "\n",
    "Generate a 4 by 2 matrix consisting of the odd-numbered columns of $\\textbf{B}$  using the colon operator."
   ]
  },
  {
   "cell_type": "code",
   "execution_count": 33,
   "metadata": {},
   "outputs": [
    {
     "name": "stdout",
     "output_type": "stream",
     "text": [
      "[[0.57910708 0.80475586]\n",
      " [0.47683885 0.54707377]\n",
      " [0.16142108 0.47782227]\n",
      " [0.99898912 0.47536831]]\n"
     ]
    }
   ],
   "source": [
    "mat1 = B[:,1::2]\n",
    "print(mat1)"
   ]
  },
  {
   "cell_type": "markdown",
   "metadata": {},
   "source": [
    "### Exercise 3\n",
    "\n",
    "Generate a 4 by 2 matrix containing two different columns that are randomly selected from the columns of $\\textbf{B}$. Generate a 3 by 4 matrix containing three different rows that are randomly selected from the rows of $\\textbf{B}$. "
   ]
  },
  {
   "cell_type": "code",
   "execution_count": 122,
   "metadata": {},
   "outputs": [
    {
     "name": "stdout",
     "output_type": "stream",
     "text": [
      "[[0.96550232 0.35222938]\n",
      " [0.3758218  0.33146372]\n",
      " [0.28374154 0.0751774 ]\n",
      " [0.71120298 0.09953164]]\n",
      "[[0.57694431 0.0751774  0.28374154 0.20873017]\n",
      " [0.45612051 0.33146372 0.3758218  0.15085967]]\n"
     ]
    }
   ],
   "source": [
    "rndpick = np.random.permutation(4)\n",
    "mat2 = B[0:,[(rndpick[0]),(rndpick[1])]]\n",
    "print(mat2)\n",
    "\n",
    "mat3 = B[[rndpick[0],rndpick[1]],0:]\n",
    "print(mat3)\n"
   ]
  },
  {
   "cell_type": "markdown",
   "metadata": {},
   "source": [
    "### Exercise 4\n",
    "\n",
    "The matrix $\\textbf{A}$ is a magic square, in which the sum of each row, each column, and each diagonal is the same. First check whether $\\textbf{A}$ satisfies this  magic square condition, then  sort the 2nd row of $\\textbf{A}$ by using appropriate commands."
   ]
  },
  {
   "cell_type": "code",
   "execution_count": 124,
   "metadata": {},
   "outputs": [
    {
     "name": "stdout",
     "output_type": "stream",
     "text": [
      "[34 34 34 34]\n",
      "136\n",
      "[34 34 34 34]\n",
      "136\n",
      "[16 10  7  1]\n",
      "34\n",
      "[[ 5  8 10 11]]\n"
     ]
    }
   ],
   "source": [
    "rows1 = np.sum(A, axis=0)\n",
    "print(rows1)\n",
    "rowsum = np.sum(rows1, axis=0)\n",
    "print(rowsum)\n",
    "\n",
    "cols1 = np.sum(A, axis=1)\n",
    "print(cols1)\n",
    "colsum = np.sum(cols1, axis=0)\n",
    "print(colsum)\n",
    "\n",
    "diag1 = np.diag(A)\n",
    "print(diag1)\n",
    "diagsum = np.sum(diag1, axis=0)\n",
    "print(diagsum)\n",
    "\n",
    "asort = np.sort(A[1:2], axis=1)\n",
    "print(asort)"
   ]
  },
  {
   "cell_type": "markdown",
   "metadata": {},
   "source": [
    "### Exercise 5\n",
    "\n",
    "Since $\\textbf{C}$ is the identity matrix, multiplication of $\\textbf{A}$ by $\\textbf{C}$ should yield $\\textbf{A}$. Check this. What does component by component multiplication give? Check this."
   ]
  },
  {
   "cell_type": "code",
   "execution_count": 126,
   "metadata": {},
   "outputs": [
    {
     "name": "stdout",
     "output_type": "stream",
     "text": [
      "[[16.  3.  2. 13.]\n",
      " [ 5. 10. 11.  8.]\n",
      " [ 9.  6.  7. 12.]\n",
      " [ 4. 15. 14.  1.]]\n",
      "[[0. 0. 0. 0.]\n",
      " [0. 0. 0. 0.]\n",
      " [0. 0. 0. 0.]\n",
      " [0. 0. 0. 0.]]\n",
      "[[16.  0.  0.  0.]\n",
      " [ 0. 10.  0.  0.]\n",
      " [ 0.  0.  7.  0.]\n",
      " [ 0.  0.  0.  1.]]\n"
     ]
    }
   ],
   "source": [
    "AC = (A @ C)\n",
    "print(AC)\n",
    "print(A - AC)\n",
    "print(A * C) idfk"
   ]
  },
  {
   "cell_type": "markdown",
   "metadata": {},
   "source": [
    "### Exercise 6\n",
    "\n",
    "Count the number of values of $\\textbf{A}$ which are greater than 10 using logical operators."
   ]
  },
  {
   "cell_type": "code",
   "execution_count": 127,
   "metadata": {},
   "outputs": [
    {
     "name": "stdout",
     "output_type": "stream",
     "text": [
      "[[ True False False  True]\n",
      " [False False  True False]\n",
      " [False False False  True]\n",
      " [False  True  True False]]\n"
     ]
    }
   ],
   "source": [
    "print(A>10)"
   ]
  },
  {
   "cell_type": "markdown",
   "metadata": {},
   "source": [
    "### Exercise 7\n",
    "\n",
    "The reciprocal of a number $x$ is  $1/x$. Use a `for` loop to  create  a new matrix $\\textbf{D}$, where each element in $\\textbf{D}$ is the reciprocal of the corresponding element in $\\textbf{A}$, and sum the columns of $\\textbf{D}$. Now create the same matrix $\\textbf{D}$ and calculate its column sums in a single operation, using matrix commands, without a `for` loop."
   ]
  },
  {
   "cell_type": "code",
   "execution_count": 149,
   "metadata": {},
   "outputs": [
    {
     "name": "stdout",
     "output_type": "stream",
     "text": [
      "[[0.0625     0.33333333 0.5        0.07692308]\n",
      " [0.2        0.1        0.09090909 0.125     ]\n",
      " [0.11111111 0.16666667 0.14285714 0.08333333]\n",
      " [0.25       0.06666667 0.07142857 1.        ]]\n",
      "[0.62361111 0.66666667 0.80519481 1.28525641]\n",
      "[[0.0625     0.33333333 0.5        0.07692308]\n",
      " [0.2        0.1        0.09090909 0.125     ]\n",
      " [0.11111111 0.16666667 0.14285714 0.08333333]\n",
      " [0.25       0.06666667 0.07142857 1.        ]]\n",
      "[0.62361111 0.66666667 0.80519481 1.28525641]\n"
     ]
    }
   ],
   "source": [
    "A = np.array([[16,3,2,13],[5,10,11,8],[9,6,7,12],[4,15,14,1]])\n",
    "\n",
    "for x in range(4):\n",
    "    for y in range(4):\n",
    "        D[x][y] = (1/(A[x][y]))\n",
    "        \n",
    "print(D)\n",
    "Dsum = np.sum(D, axis=0)\n",
    "print(Dsum)\n",
    "\n",
    "\n",
    "\n",
    "\n",
    "D[x][y] = (1/(A[x][y]))\n",
    "print(D)\n",
    "Dsum = np.sum(D, axis=0)\n",
    "print(Dsum)"
   ]
  },
  {
   "cell_type": "markdown",
   "metadata": {},
   "source": [
    "### Exercise 8\n",
    "\n",
    "Let $\\boldsymbol{y} $ be an $N$-dimensional column vector with $y_i$ denoting its $i$-th element. Let $\\textbf{X}$ be an $N$ by  $D$ matrix with $\\boldsymbol{x}_{i}$ denoting its $i$-th row. Let $\\boldsymbol{w}$ be a $D$-dimensional column vector. Generate $ \\boldsymbol{y}$ , $\\textbf{X}$ and $\\boldsymbol{w}$ containing random elements. Use matrix operations and `for` loops to verify the following two quantities are equal. \n",
    "$$ \\boldsymbol{g}_1 = \\textbf{X}^T\\textbf{X} \\boldsymbol{w}-\\textbf{X}^T \\boldsymbol{y}$$\n",
    "$$ \\boldsymbol{g}_2 = \\sum_{i=1}^N \\left(\\boldsymbol{x}_{i}^T \\boldsymbol{w}- \\boldsymbol{y}_i\\right) \\boldsymbol{x}_{i}$$"
   ]
  },
  {
   "cell_type": "code",
   "execution_count": 206,
   "metadata": {},
   "outputs": [
    {
     "name": "stdout",
     "output_type": "stream",
     "text": [
      "[[0.92531457]\n",
      " [0.63164988]\n",
      " [0.57019723]\n",
      " [0.76339054]\n",
      " [0.52884484]\n",
      " [0.57046595]]\n",
      "[[0.72430387 0.9647807  0.08837011]\n",
      " [0.68881337 0.22456903 0.09761271]\n",
      " [0.73483988 0.09306376 0.38951624]\n",
      " [0.0213202  0.1565057  0.15555086]\n",
      " [0.05027414 0.90729634 0.48746978]\n",
      " [0.03654642 0.59164909 0.11861464]]\n",
      "[[0.32372418]\n",
      " [0.42565004]\n",
      " [0.74620344]]\n",
      "-------\n",
      "[[1.16083484]\n",
      " [1.01388865]\n",
      " [1.02896326]]\n",
      "-------\n",
      "[-0.32215258 -0.26083337 -0.04317749]\n"
     ]
    }
   ],
   "source": [
    "N = 6\n",
    "y = np.random.rand(N,1)\n",
    "print(y)\n",
    "\n",
    "D = 3\n",
    "x = np.random.rand(N,D)\n",
    "print(x)\n",
    "\n",
    "w = np.random.rand(D,1)\n",
    "print(w)\n",
    "\n",
    "g1 = (X.T) @ X @ w - ((X.T)@ y)\n",
    "\n",
    "g2 = 0\n",
    "eachi = 0\n",
    "for i in range(D):\n",
    "    eachi = ((x[i, :].T) @ w - y[i]) * x[i, :]\n",
    "    g2 += eachi\n",
    "print('-------')\n",
    "print(g1)\n",
    "print('-------')\n",
    "print(g2)"
   ]
  },
  {
   "cell_type": "markdown",
   "metadata": {},
   "source": [
    "### Exercise 9\n",
    "\n",
    "Calculate the derivative of the function $f(x) = x^2+3x+1$ at 10 randomly chosen values of $x$. Write a user-defined function for calculating an approximated derivative of an input function based on \n",
    "$$\\frac{d f(x)}{d x}=\\frac{f(x+\\Delta x)-f(x)}{\\Delta x} ~ .$$\n",
    "Use this function to calculate the approximated derivative for $f(x) = x^2+3x+1$ at the same 10 chosen values of $x$ for $\\Delta x = 1$, $\\Delta x = 0.1$ and $\\Delta x = 0.001$. Plot your derivatives and the approximated derivatives in the same figure. Which $\\Delta x$ gives you a better approximation?"
   ]
  },
  {
   "cell_type": "code",
   "execution_count": 205,
   "metadata": {},
   "outputs": [],
   "source": [
    "# Write your code here"
   ]
  },
  {
   "cell_type": "markdown",
   "metadata": {},
   "source": [
    "### Exercise 10\n",
    "\n",
    "Plot the log of the integers from 1 to 100 with axis names provided."
   ]
  },
  {
   "cell_type": "code",
   "execution_count": 10,
   "metadata": {},
   "outputs": [],
   "source": [
    "# Write your code here"
   ]
  }
 ],
 "metadata": {
  "kernelspec": {
   "display_name": "Python 3",
   "language": "python",
   "name": "python3"
  },
  "language_info": {
   "codemirror_mode": {
    "name": "ipython",
    "version": 3
   },
   "file_extension": ".py",
   "mimetype": "text/x-python",
   "name": "python",
   "nbconvert_exporter": "python",
   "pygments_lexer": "ipython3",
   "version": "3.6.6"
  }
 },
 "nbformat": 4,
 "nbformat_minor": 2
}
